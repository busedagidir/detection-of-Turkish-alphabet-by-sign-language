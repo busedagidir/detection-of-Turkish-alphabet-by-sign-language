{
 "cells": [
  {
   "cell_type": "code",
   "execution_count": 2,
   "id": "db7f328f",
   "metadata": {},
   "outputs": [],
   "source": [
    "import cv2\n",
    "import os\n",
    "import time\n",
    "import uuid"
   ]
  },
  {
   "cell_type": "code",
   "execution_count": 3,
   "id": "4b00e9f4",
   "metadata": {},
   "outputs": [],
   "source": [
    "images_path = 'D:\\\\AnacondaProjects\\\\tez\\\\Tensorflow\\\\workspace\\\\training_demo\\\\images'\n",
    "\n",
    "labels = ['a','b','c','d','e','f','g','h','i','j','k','l','m','n','o','p','r','s','t','u','v','y','z']\n",
    "\n",
    "img_number = 40"
   ]
  },
  {
   "cell_type": "code",
   "execution_count": 4,
   "id": "f73ef700",
   "metadata": {},
   "outputs": [
    {
     "name": "stderr",
     "output_type": "stream",
     "text": [
      "A subdirectory or file D:\\AnacondaProject\\tez\\Tensorflow\\workspace\\training_demo\\images\\a already exists.\n"
     ]
    },
    {
     "name": "stdout",
     "output_type": "stream",
     "text": [
      "Collecting images for a\n",
      "Collecting images for b\n",
      "Collecting images for c\n",
      "Collecting images for d\n",
      "Collecting images for e\n",
      "Collecting images for f\n",
      "Collecting images for g\n",
      "Collecting images for h\n",
      "Collecting images for i\n",
      "Collecting images for j\n",
      "Collecting images for k\n",
      "Collecting images for l\n",
      "Collecting images for m\n",
      "Collecting images for n\n",
      "Collecting images for o\n",
      "Collecting images for p\n",
      "Collecting images for r\n",
      "Collecting images for s\n",
      "Collecting images for t\n",
      "Collecting images for u\n",
      "Collecting images for v\n",
      "Collecting images for y\n",
      "Collecting images for z\n"
     ]
    }
   ],
   "source": [
    "for label in labels:\n",
    "    !mkdir {images_path+'\\\\'+label}\n",
    "    cap = cv2.VideoCapture(0)\n",
    "    print('Collecting images for {}'.format(label))\n",
    "    time.sleep(5)\n",
    "    for imgnum in range(img_number):\n",
    "        ret,frame = cap.read()\n",
    "        imgname = os.path.join(images_path, label, label+'.'+'{}.jpg'.format(str(uuid.uuid1())))\n",
    "        #print(imgname)\n",
    "        cv2.imwrite(imgname,frame)\n",
    "        cv2.imshow('abc',frame)\n",
    "        time.sleep(2)\n",
    "        \n",
    "        if cv2.waitKey(1) & 0xFF == ord('q'):\n",
    "            break\n",
    "    cap.release()\n",
    "cv2.destroyAllWindows()"
   ]
  },
  {
   "cell_type": "code",
   "execution_count": null,
   "id": "bb3f18fe",
   "metadata": {},
   "outputs": [],
   "source": []
  }
 ],
 "metadata": {
  "kernelspec": {
   "display_name": "Python 3",
   "language": "python",
   "name": "python3"
  },
  "language_info": {
   "codemirror_mode": {
    "name": "ipython",
    "version": 3
   },
   "file_extension": ".py",
   "mimetype": "text/x-python",
   "name": "python",
   "nbconvert_exporter": "python",
   "pygments_lexer": "ipython3",
   "version": "3.8.8"
  }
 },
 "nbformat": 4,
 "nbformat_minor": 5
}
