{
 "cells": [
  {
   "cell_type": "code",
   "execution_count": 1,
   "id": "bcc140cc",
   "metadata": {},
   "outputs": [],
   "source": [
    "import cv2\n",
    "import os\n",
    "import time\n",
    "import uuid"
   ]
  },
  {
   "cell_type": "code",
   "execution_count": 2,
   "id": "620455cf",
   "metadata": {},
   "outputs": [],
   "source": [
    "images_path = 'D:\\\\AnacondaProjects\\\\tez\\\\Tensorflow\\\\workspace\\\\training\\\\imgs\\\\val'\n",
    "\n",
    "labels = ['A','B','C','D','E','F','G','H','I','J','K','L','M','N','O','P','R','S','T','U','V','Y','Z']\n",
    "\n",
    "img_number = 3"
   ]
  },
  {
   "cell_type": "code",
   "execution_count": 3,
   "id": "2385673e",
   "metadata": {},
   "outputs": [
    {
     "name": "stdout",
     "output_type": "stream",
     "text": [
      "Collecting images for A\n",
      "Collecting images for B\n",
      "Collecting images for C\n",
      "Collecting images for D\n",
      "Collecting images for E\n",
      "Collecting images for F\n",
      "Collecting images for G\n",
      "Collecting images for H\n",
      "Collecting images for I\n",
      "Collecting images for J\n",
      "Collecting images for K\n",
      "Collecting images for L\n",
      "Collecting images for M\n",
      "Collecting images for N\n",
      "Collecting images for O\n",
      "Collecting images for P\n",
      "Collecting images for R\n",
      "Collecting images for S\n",
      "Collecting images for T\n",
      "Collecting images for U\n",
      "Collecting images for V\n",
      "Collecting images for Y\n",
      "Collecting images for Z\n"
     ]
    }
   ],
   "source": [
    "for label in labels:\n",
    "    !mkdir {images_path+'\\\\'+label}\n",
    "    cap = cv2.VideoCapture(0)\n",
    "    print('Collecting images for {}'.format(label))\n",
    "    time.sleep(5)\n",
    "    for imgnum in range(img_number):\n",
    "        ret,frame = cap.read()\n",
    "        imgname = os.path.join(images_path, label, label+'.'+'{}.jpg'.format(str(uuid.uuid1())))\n",
    "        #print(imgname)\n",
    "        cv2.imwrite(imgname,frame)\n",
    "        cv2.imshow('abc',frame)\n",
    "        time.sleep(2)\n",
    "        \n",
    "        if cv2.waitKey(1) & 0xFF == ord('q'):\n",
    "            break\n",
    "    cap.release()\n",
    "cv2.destroyAllWindows()"
   ]
  },
  {
   "cell_type": "code",
   "execution_count": null,
   "id": "2fa05f8c",
   "metadata": {},
   "outputs": [],
   "source": []
  }
 ],
 "metadata": {
  "kernelspec": {
   "display_name": "Python 3",
   "language": "python",
   "name": "python3"
  },
  "language_info": {
   "codemirror_mode": {
    "name": "ipython",
    "version": 3
   },
   "file_extension": ".py",
   "mimetype": "text/x-python",
   "name": "python",
   "nbconvert_exporter": "python",
   "pygments_lexer": "ipython3",
   "version": "3.8.8"
  }
 },
 "nbformat": 4,
 "nbformat_minor": 5
}
